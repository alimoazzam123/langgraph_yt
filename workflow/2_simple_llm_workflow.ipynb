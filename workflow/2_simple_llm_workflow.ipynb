{
 "cells": [
  {
   "cell_type": "code",
   "execution_count": 4,
   "id": "ba9de799",
   "metadata": {},
   "outputs": [],
   "source": [
    "from langgraph.graph import StateGraph,START,END\n",
    "from typing import TypedDict\n",
    "from langchain_google_genai import ChatGoogleGenerativeAI\n",
    "from dotenv import load_dotenv\n",
    "import os"
   ]
  },
  {
   "cell_type": "code",
   "execution_count": 5,
   "id": "fc3e4c11",
   "metadata": {},
   "outputs": [],
   "source": [
    "load_dotenv()\n",
    "google_api_key=os.getenv(\"google_api_key\")\n",
    "\n",
    "if not google_api_key:\n",
    "    raise ValueError(\"API Key not found in .env file!\")\n",
    "\n",
    "model=ChatGoogleGenerativeAI(model='gemini-2.5-flash',api_key=google_api_key)"
   ]
  },
  {
   "cell_type": "code",
   "execution_count": 6,
   "id": "4403952f",
   "metadata": {},
   "outputs": [
    {
     "data": {
      "text/plain": [
       "AIMessage(content='Hello there! How can I help you today?', additional_kwargs={}, response_metadata={'prompt_feedback': {'block_reason': 0, 'safety_ratings': []}, 'finish_reason': 'STOP', 'safety_ratings': []}, id='run--31e4aa2c-778b-4fda-808f-7666603ed1e2-0', usage_metadata={'input_tokens': 2, 'output_tokens': 10, 'total_tokens': 41, 'input_token_details': {'cache_read': 0}})"
      ]
     },
     "execution_count": 6,
     "metadata": {},
     "output_type": "execute_result"
    }
   ],
   "source": [
    "model.invoke(\"HI\")"
   ]
  },
  {
   "cell_type": "code",
   "execution_count": 7,
   "id": "f94b6d8d",
   "metadata": {},
   "outputs": [],
   "source": [
    "class LLMState(TypedDict):\n",
    "    question: str\n",
    "    answer: str"
   ]
  },
  {
   "cell_type": "code",
   "execution_count": 8,
   "id": "c6d64e1e",
   "metadata": {},
   "outputs": [],
   "source": [
    "def llm_qa(state: LLMState)->LLMState:\n",
    "    question=state['question']\n",
    "    prompt=f'Answer the following question {question}'\n",
    "    answer=model.invoke(prompt).content\n",
    "\n",
    "    state['answer']=answer\n",
    "\n",
    "    return state"
   ]
  },
  {
   "cell_type": "code",
   "execution_count": 9,
   "id": "c1954727",
   "metadata": {},
   "outputs": [],
   "source": [
    "graph=StateGraph(LLMState)\n",
    "\n",
    "graph.add_node('llm_qa',llm_qa)\n",
    "\n",
    "graph.add_edge(START,'llm_qa')\n",
    "graph.add_edge('llm_qa',END)\n",
    "\n",
    "workflow=graph.compile()"
   ]
  },
  {
   "cell_type": "code",
   "execution_count": 15,
   "id": "2ecfd680",
   "metadata": {},
   "outputs": [
    {
     "name": "stdout",
     "output_type": "stream",
     "text": [
      "The average distance from the Earth to the Moon is approximately **384,400 kilometers (238,900 miles)**.\n",
      "\n",
      "However, this distance isn't constant. The Moon's orbit around Earth is elliptical, meaning the distance varies throughout its orbit:\n",
      "\n",
      "*   **Perigee (closest point):** Around 363,104 km (225,623 miles)\n",
      "*   **Apogee (farthest point):** Around 405,696 km (252,088 miles)\n",
      "\n",
      "It takes light about 1.28 seconds to travel from the Moon to the Earth.\n"
     ]
    }
   ],
   "source": [
    "initial_state={'question':'How far is moon from earth'}\n",
    "final_state=workflow.invoke(initial_state)\n",
    "print(final_state['answer'])"
   ]
  },
  {
   "cell_type": "code",
   "execution_count": 16,
   "id": "3cee26d1",
   "metadata": {},
   "outputs": [
    {
     "data": {
      "text/plain": [
       "\"The distance between the Earth and the Moon is not constant because the Moon's orbit around Earth is elliptical, not a perfect circle.\\n\\nHere are the key figures:\\n\\n*   **Average Distance:** Approximately **384,400 kilometers (km)** or **238,900 miles**.\\n*   **Closest Point (Perigee):** Around **363,104 km (225,623 miles)**.\\n*   **Farthest Point (Apogee):** Around **405,696 km (252,088 miles)**.\\n\\nTo put that into perspective, you could fit all the other planets in our solar system (Mercury, Venus, Mars, Jupiter, Saturn, Uranus, Neptune) side-by-side between the Earth and the Moon during their average distance!\""
      ]
     },
     "execution_count": 16,
     "metadata": {},
     "output_type": "execute_result"
    }
   ],
   "source": [
    "model.invoke('how far is moon from the earth?').content"
   ]
  },
  {
   "cell_type": "code",
   "execution_count": null,
   "id": "45448d41",
   "metadata": {},
   "outputs": [],
   "source": []
  }
 ],
 "metadata": {
  "kernelspec": {
   "display_name": ".venv",
   "language": "python",
   "name": "python3"
  },
  "language_info": {
   "codemirror_mode": {
    "name": "ipython",
    "version": 3
   },
   "file_extension": ".py",
   "mimetype": "text/x-python",
   "name": "python",
   "nbconvert_exporter": "python",
   "pygments_lexer": "ipython3",
   "version": "3.13.1"
  }
 },
 "nbformat": 4,
 "nbformat_minor": 5
}
